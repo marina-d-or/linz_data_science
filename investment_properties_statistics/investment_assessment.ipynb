{
 "cells": [
  {
   "cell_type": "code",
   "execution_count": null,
   "metadata": {},
   "outputs": [],
   "source": [
    "import matplotlib as mpl\n",
    "import matplotlib.pyplot as plt"
   ]
  },
  {
   "cell_type": "code",
   "execution_count": 15,
   "metadata": {},
   "outputs": [],
   "source": [
    "from tools import read_linz_csv"
   ]
  },
  {
   "cell_type": "code",
   "execution_count": 16,
   "metadata": {
    "scrolled": true
   },
   "outputs": [],
   "source": [
    "file_path='C:/Users/alexg/Downloads/nz-property-titles-including-owners.csv'"
   ]
  },
  {
   "cell_type": "code",
   "execution_count": 18,
   "metadata": {},
   "outputs": [
    {
     "ename": "NameError",
     "evalue": "name 'file_path' is not defined",
     "output_type": "error",
     "traceback": [
      "\u001B[1;31m---------------------------------------------------------------------------\u001B[0m",
      "\u001B[1;31mNameError\u001B[0m                                 Traceback (most recent call last)",
      "Cell \u001B[1;32mIn[18], line 2\u001B[0m\n\u001B[0;32m      1\u001B[0m \u001B[38;5;66;03m# Step 1: Use the read_linz_csv function to get the data\u001B[39;00m\n\u001B[1;32m----> 2\u001B[0m linz_data \u001B[38;5;241m=\u001B[39m read_linz_csv(file_path)\n",
      "File \u001B[1;32m~\\Documents\\linz_data_science\\investment_properties_statistics\\tools.py:14\u001B[0m, in \u001B[0;36mread_linz_csv\u001B[1;34m(linz_file_path)\u001B[0m\n\u001B[0;32m     12\u001B[0m \u001B[38;5;28;01mdef\u001B[39;00m \u001B[38;5;21mread_linz_csv\u001B[39m(linz_file_path):\n\u001B[1;32m---> 14\u001B[0m     linz_data \u001B[38;5;241m=\u001B[39m pd\u001B[38;5;241m.\u001B[39mread_csv(file_path)\n\u001B[0;32m     16\u001B[0m     \u001B[38;5;66;03m# column_names_list = linz_data.columns.tolist()\u001B[39;00m\n\u001B[0;32m     17\u001B[0m     \u001B[38;5;66;03m#\u001B[39;00m\n\u001B[0;32m     18\u001B[0m     \u001B[38;5;66;03m# # Print the list of column names\u001B[39;00m\n\u001B[1;32m   (...)\u001B[0m\n\u001B[0;32m     22\u001B[0m     \u001B[38;5;66;03m# #res=result_df.loc[0, 'owners']\u001B[39;00m\n\u001B[0;32m     23\u001B[0m     \u001B[38;5;66;03m# print('len = ',result_df)\u001B[39;00m\n\u001B[0;32m     24\u001B[0m     linz_data\u001B[38;5;241m=\u001B[39mlinz_data\u001B[38;5;241m.\u001B[39mdropna(subset\u001B[38;5;241m=\u001B[39m[\u001B[38;5;124m'\u001B[39m\u001B[38;5;124mowners\u001B[39m\u001B[38;5;124m'\u001B[39m])\n",
      "\u001B[1;31mNameError\u001B[0m: name 'file_path' is not defined"
     ]
    }
   ],
   "source": [
    "# Step 1: Use the read_linz_csv function to get the data\n",
    "linz_data = read_linz_csv(file_path)"
   ]
  },
  {
   "cell_type": "code",
   "execution_count": null,
   "metadata": {},
   "outputs": [],
   "source": []
  },
  {
   "cell_type": "code",
   "execution_count": null,
   "metadata": {},
   "outputs": [],
   "source": []
  },
  {
   "cell_type": "code",
   "execution_count": null,
   "metadata": {},
   "outputs": [],
   "source": []
  },
  {
   "cell_type": "code",
   "execution_count": null,
   "metadata": {},
   "outputs": [],
   "source": []
  }
 ],
 "metadata": {
  "kernelspec": {
   "display_name": "Python 3 (ipykernel)",
   "language": "python",
   "name": "python3"
  },
  "language_info": {
   "codemirror_mode": {
    "name": "ipython",
    "version": 3
   },
   "file_extension": ".py",
   "mimetype": "text/x-python",
   "name": "python",
   "nbconvert_exporter": "python",
   "pygments_lexer": "ipython3",
   "version": "3.11.3"
  }
 },
 "nbformat": 4,
 "nbformat_minor": 1
}